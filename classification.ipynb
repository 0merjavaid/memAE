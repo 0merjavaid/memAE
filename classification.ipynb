{
 "cells": [
  {
   "cell_type": "code",
   "execution_count": 3,
   "metadata": {
    "scrolled": true
   },
   "outputs": [],
   "source": [
    "import os\n",
    "import sys\n",
    "import cv2\n",
    "import glob \n",
    "import torch\n",
    "import random \n",
    "import resource \n",
    "import numpy as np\n",
    "from math import exp\n",
    "import torch.nn as nn \n",
    "from PIL import Image\n",
    "from models.memae import *\n",
    "import torch.optim as optim\n",
    "import matplotlib.pyplot as plt\n",
    "import torch.nn.functional as F\n",
    "from torch.autograd import Variable\n",
    "from torchvision import transforms, utils\n",
    "from torch.utils.data import Dataset, DataLoader  \n",
    " "
   ]
  },
  {
   "cell_type": "code",
   "execution_count": 4,
   "metadata": {
    "scrolled": true
   },
   "outputs": [],
   "source": [
    "def gaussian(window_size, sigma):\n",
    "    \"\"\"\n",
    "    Args:\n",
    "        window_size: Size of Gaussian window\n",
    "        sigma: mean for the gaussian\n",
    "\n",
    "    Returns:\n",
    "        gauss. a gaussian matrix with mean equal to sigma and size equal to window size \n",
    "    \"\"\"\n",
    "    gauss = torch.Tensor([exp(-(x - window_size//2)**2/float(2*sigma**2)) for x in range(window_size)])\n",
    "    return gauss/gauss.sum()\n",
    "\n",
    "def create_window(window_size, channel):\n",
    "    \"\"\"\n",
    "    Args:\n",
    "        window_size: Size of Gaussian window\n",
    "        channel: number of channels in the gaussian filter\n",
    "\n",
    "    Returns:\n",
    "        window: Gaussian tensor\n",
    "    \"\"\"\n",
    "    _1D_window = gaussian(window_size, 1.5).unsqueeze(1)\n",
    "    _2D_window = _1D_window.mm(_1D_window.t()).float().unsqueeze(0).unsqueeze(0)\n",
    "    window = Variable(_2D_window.expand(channel, 1, window_size, window_size).contiguous())\n",
    "    return window\n",
    "\n",
    "def _ssim(img1, img2, window, window_size, channel, size_average = False):\n",
    "    \"\"\"\n",
    "    Args:\n",
    "        img1: image one to be compared\n",
    "        img2: image two to be compared\n",
    "        window: the Gaussian window\n",
    "        window_size: size of the Gaussian Window\n",
    "        channel: number of output channels\n",
    "        size_average: take mean of the final similarity matrix or not\n",
    "\n",
    "    Returns:\n",
    "        ssim_map: Structural similarity index of two images\n",
    "    \"\"\"\n",
    "    mu1 = F.conv2d(img1, window, padding = window_size//2, groups = channel)\n",
    "    mu2 = F.conv2d(img2, window, padding = window_size//2, groups = channel)\n",
    "\n",
    "    mu1_sq = mu1.pow(2)\n",
    "    mu2_sq = mu2.pow(2)\n",
    "    mu1_mu2 = mu1*mu2\n",
    "\n",
    "    sigma1_sq = F.conv2d(img1*img1, window, padding = window_size//2, groups = channel) - mu1_sq\n",
    "    sigma2_sq = F.conv2d(img2*img2, window, padding = window_size//2, groups = channel) - mu2_sq\n",
    "    sigma12 = F.conv2d(img1*img2, window, padding = window_size//2, groups = channel) - mu1_mu2\n",
    "\n",
    "    C1 = 0.01**2\n",
    "    C2 = 0.03**2\n",
    "\n",
    "    ssim_map = ((2*mu1_mu2 + C1)*(2*sigma12 + C2))/((mu1_sq + mu2_sq + C1)*(sigma1_sq + sigma2_sq + C2))\n",
    "\n",
    "    if size_average and False: \n",
    "        return ssim_map.mean()\n",
    "    else:\n",
    "        return ssim_map\n",
    "        return ssim_map.mean(1).mean(1).mean(1)\n",
    "\n",
    "class SSIM(torch.nn.Module):\n",
    "    \"\"\" \n",
    "    Class for SSIM loss \n",
    "      \n",
    "    Attributes: \n",
    "        size_average: Take mean of the loss or not \n",
    "        window_size: size of similarity window \n",
    "    \"\"\"\n",
    "    def __init__(self, window_size = 11, size_average = True):\n",
    "        super(SSIM, self).__init__()\n",
    "        self.window_size = window_size\n",
    "        self.size_average = size_average\n",
    "        self.channel = 1\n",
    "        self.window = create_window(window_size, self.channel)\n",
    "         \n",
    "    def forward(self, img1, img2):\n",
    "        (_, channel, _, _) = img1.size()\n",
    "\n",
    "        if channel == self.channel and self.window.data.type() == img1.data.type():\n",
    "            window = self.window\n",
    "        else:\n",
    "            window = create_window(self.window_size, channel)\n",
    "            \n",
    "            if img1.is_cuda:\n",
    "                window = window.cuda(img1.get_device())\n",
    "            window = window.type_as(img1)\n",
    "            \n",
    "            self.window = window\n",
    "            self.channel = channel\n",
    "\n",
    "        return _ssim(img1, img2, window, self.window_size, channel, self.size_average)\n",
    "\n",
    " "
   ]
  },
  {
   "cell_type": "code",
   "execution_count": null,
   "metadata": {
    "scrolled": true
   },
   "outputs": [],
   "source": [
    " "
   ]
  },
  {
   "cell_type": "code",
   "execution_count": 5,
   "metadata": {
    "scrolled": false
   },
   "outputs": [
    {
     "name": "stdout",
     "output_type": "stream",
     "text": [
      "Train Good 8491 \n",
      "Test defective 462 \n",
      "Test good 462\n"
     ]
    }
   ],
   "source": [
    "class MemDataset(Dataset):\n",
    "    \"\"\"Memory Auto Encoder Dataset\"\"\"\n",
    "\n",
    "    def __init__(self,root_dir,start,end,train=True):\n",
    "        \"\"\"\n",
    "        Args:\n",
    "            root_dir : Directory with all the images.\n",
    "            start : starting index of images to include in this set\n",
    "            end : ending index of images to include in this set\n",
    "            train : train or test\n",
    "        \"\"\"\n",
    "        self.transform=transforms.Compose([    transforms.Resize((98,98)), \n",
    "                                               transforms.Grayscale(num_output_channels=1),\n",
    "                                               transforms.ToTensor()\n",
    "                                           ])\n",
    "        self.train = train\n",
    "        self.dataset = glob.glob(root_dir)[start:end] \n",
    "       \n",
    "\n",
    "    def __len__(self):\n",
    "        \"\"\"\n",
    "        returns total number of samples in dataset\n",
    "        \"\"\"\n",
    "        return len(self.dataset)\n",
    "\n",
    "    def __getitem__(self, idx):\n",
    "        img_name = self.dataset[idx]\n",
    "        im = np.array(Image.open(img_name))  \n",
    "        im = Image.fromarray(im) \n",
    "        im = self.transform(im)\n",
    "        return im,im\n",
    "    \n",
    "train_good = MemDataset('../defect/datasets/infineon/train_memae/train/*',0,10000)\n",
    "test_good = MemDataset('../defect/datasets/infineon/train_memae/test/*',0,10000,False)\n",
    "test_bad = MemDataset('../defect/datasets/infineon/test/baad/*',00,1000,False)\n",
    "\n",
    "print (\"Train Good\",train_good.__len__(), \"\\nTest defective\", test_bad.__len__(),\"\\nTest good\", test_good.__len__())\n",
    "\n",
    "train_loader = torch.utils.data.DataLoader(train_good,batch_size=64, shuffle=True,\n",
    "                                             num_workers=4)\n",
    "test_loader_bad = torch.utils.data.DataLoader(test_bad,batch_size=1, shuffle=False,\n",
    "                                             num_workers=4)\n",
    "test_loader_good = torch.utils.data.DataLoader(test_good,batch_size=1, shuffle=False,\n",
    "                                             num_workers=4)\n"
   ]
  },
  {
   "cell_type": "code",
   "execution_count": null,
   "metadata": {},
   "outputs": [],
   "source": []
  },
  {
   "cell_type": "code",
   "execution_count": 6,
   "metadata": {
    "scrolled": true
   },
   "outputs": [
    {
     "data": {
      "text/plain": [
       "MEMAE(\n",
       "  (encoder): Encoder(\n",
       "    (conv1): Conv2d(1, 16, kernel_size=(1, 1), stride=(2, 2), padding=(1, 1))\n",
       "    (bn1): BatchNorm2d(16, eps=1e-05, momentum=0.1, affine=True, track_running_stats=True)\n",
       "    (conv2): Conv2d(16, 32, kernel_size=(3, 3), stride=(2, 2), padding=(1, 1))\n",
       "    (bn2): BatchNorm2d(32, eps=1e-05, momentum=0.1, affine=True, track_running_stats=True)\n",
       "    (conv3): Conv2d(32, 64, kernel_size=(3, 3), stride=(2, 2), padding=(1, 1))\n",
       "    (bn3): BatchNorm2d(64, eps=1e-05, momentum=0.1, affine=True, track_running_stats=True)\n",
       "    (conv4): Conv2d(64, 64, kernel_size=(3, 3), stride=(2, 2))\n",
       "    (bn4): BatchNorm2d(64, eps=1e-05, momentum=0.1, affine=True, track_running_stats=True)\n",
       "    (relu): ReLU(inplace=True)\n",
       "  )\n",
       "  (cosine_similarity): CosineSimilarity()\n",
       "  (decoder): Decoder(\n",
       "    (deconv0): ConvTranspose2d(64, 64, kernel_size=(3, 3), stride=(2, 2))\n",
       "    (bn0): BatchNorm2d(64, eps=1e-05, momentum=0.1, affine=True, track_running_stats=True)\n",
       "    (deconv1): ConvTranspose2d(64, 32, kernel_size=(3, 3), stride=(2, 2), padding=(1, 1))\n",
       "    (bn1): BatchNorm2d(32, eps=1e-05, momentum=0.1, affine=True, track_running_stats=True)\n",
       "    (deconv2): ConvTranspose2d(32, 16, kernel_size=(2, 2), stride=(2, 2), padding=(1, 1), output_padding=(1, 1))\n",
       "    (bn2): BatchNorm2d(16, eps=1e-05, momentum=0.1, affine=True, track_running_stats=True)\n",
       "    (deconv3): ConvTranspose2d(16, 1, kernel_size=(2, 2), stride=(2, 2))\n",
       "    (relu): ReLU(inplace=True)\n",
       "    (sigmoid): Sigmoid()\n",
       "  )\n",
       "  (relu): ReLU(inplace=True)\n",
       ")"
      ]
     },
     "execution_count": 6,
     "metadata": {},
     "output_type": "execute_result"
    }
   ],
   "source": [
    "# Create model object with 1000 memory locations\n",
    "model = MEMAE(1000).cuda()\n",
    "# Load weights\n",
    "model.load_state_dict(torch.load(\"./ckpts/97_4.pt\")) \n",
    "model.train()\n",
    "\n",
    " "
   ]
  },
  {
   "cell_type": "code",
   "execution_count": 9,
   "metadata": {
    "scrolled": true
   },
   "outputs": [],
   "source": [
    " \n",
    "def train(model,dataloader,criteria,optimizer,train=True,step=100):\n",
    "    \"\"\"\n",
    "    Args:\n",
    "        model: Memory Augmented Auto Encoder\n",
    "        dataloader: Image dataloader\n",
    "        criteria: Loss function, L2 or SSIM\n",
    "        optimizer: the optimizer used for training, default is Adam\n",
    "        train: train or test set\n",
    "        step: step after which image will be shown\n",
    "\n",
    "    Returns:\n",
    "        losses: A list of losses on all test images\n",
    "    \"\"\"\n",
    "    \n",
    "    losses = list() \n",
    "    if not train:\n",
    "        model.eval()\n",
    "    else:\n",
    "        model.train()\n",
    "    for i,(im,lab) in enumerate(dataloader):\n",
    "        optimizer.zero_grad() \n",
    "        outputs = model(im.cuda())  \n",
    "        #Minimize the similarity difference\n",
    "        loss =  1-criteria(outputs, lab.cuda()) \n",
    "        refiner_output = 1- criteria(outputs,model(outputs))\n",
    "        blur = cv2.GaussianBlur(loss.clone().cpu().detach().numpy()[0].reshape(98,98),(9,9),0)\n",
    "        refiner_output = refiner_output.cpu().detach().numpy()[0].reshape(98,98)\n",
    "        refined_loss = blur - refiner_output\n",
    "        refined_loss = np.sort(refined_loss.reshape(-1)) \n",
    "        error = np.median(refined_loss)*np.median(refined_loss[-45:])\n",
    "        losses.append(error)\n",
    "        phase = \"Train\" if train else \"Test\" \n",
    "        if i % step == 0 and  not train:\n",
    "            print (phase,\" Iteration: \",i,\"LOSS : \",np.mean(refined_loss),\"min:\",np.min(refined_loss),\"max:\",np.max(refined_loss)\\\n",
    "               ,\"med:\",np.median(refined_loss),\"zero:\",refined_loss[refined_loss==0].shape) \n",
    "            inn = im.cpu().detach().numpy()[0]\n",
    "            inn = np.transpose(inn,(1,2,0)) \n",
    "            outputs = outputs.cpu().detach().numpy()[0]  \n",
    "            outputs[outputs>1]=1\n",
    "            outputs = np.transpose(outputs,(1,2,0))[:,:,0] \n",
    "            \n",
    "            \n",
    "            plt.imshow(inn.reshape(98,98),cmap=\"gray\")#.cpu().detach().numpy().reshape(98,98),cmap=\"gray\")\n",
    "            plt.show()\n",
    "            plt.imshow(outputs,cmap=\"gray\")\n",
    "            plt.show() \n",
    "        if train:\n",
    "            loss.mean().backward()\n",
    "            optimizer.step()\n",
    "    \n",
    "    return losses\n",
    "\n",
    "def calculate_acc(loss_lists):\n",
    "    \"\"\"\n",
    "    Args:\n",
    "        loss_lists: list of losses for bad and good test images\n",
    "    Returns:\n",
    "        accuracy, thres: Best accuracy and threshold calculated from losses\n",
    "    \"\"\"\n",
    "    neg_np =  (np.array(loss_lists[0]))\n",
    "    pos_np =  (np.array(loss_lists[1]))\n",
    "    pos_np *=1000\n",
    "    neg_np *=1000\n",
    "    start,end = np.median(pos_np),np.median(neg_np) \n",
    "    \n",
    "    thresholds = np.linspace(0, end, num=1000)\n",
    "    accuracy = 0\n",
    "    thres = 0\n",
    "    print (pos_np.shape,neg_np.shape)\n",
    "    accs = list()\n",
    "    defects = list()\n",
    "    normal = list()\n",
    "    for threh in thresholds: \n",
    "        current_acc = ((pos_np[pos_np<threh].shape[0])+(neg_np[neg_np>=threh].shape[0])) / (pos_np.shape[0]+neg_np.shape[0])\n",
    "        accs.append(current_acc)\n",
    "        defects.append(neg_np[neg_np>=threh].shape)\n",
    "        normal.append(pos_np[pos_np<threh].shape)\n",
    "        if accuracy < current_acc:\n",
    "            accuracy = current_acc\n",
    "            thres  = threh\n",
    "    plt.ylabel(\"True Negative\")\n",
    "    plt.xlabel(\"Threshold\")\n",
    "    plt.plot(thresholds,accs)\n",
    "    plt.show()\n",
    "    print (accuracy,thres)\n",
    "    print (\"Positive\",pos_np[pos_np<thres].shape,\"Anomaly\",neg_np[neg_np>=thres].shape, \"Distribution\")\n",
    "    return accuracy,thres"
   ]
  },
  {
   "cell_type": "code",
   "execution_count": 10,
   "metadata": {
    "scrolled": true
   },
   "outputs": [
    {
     "name": "stdout",
     "output_type": "stream",
     "text": [
      "Epoch ___________________________________ 1\n",
      "Test  Iteration:  0 LOSS :  0.010197627 min: -0.00030090142 max: 0.17540278 med: 0.0075576254 zero: (0,)\n"
     ]
    },
    {
     "data": {
      "image/png": "[encoded data removed]",
      "text/plain": [
       "<Figure size 432x288 with 1 Axes>"
      ]
     },
     "metadata": {},
     "output_type": "display_data"
    },
    {
     "data": {
      "image/png": "[encoded data removed]",
      "text/plain": [
       "<Figure size 432x288 with 1 Axes>"
      ]
     },
     "metadata": {},
     "output_type": "display_data"
    },
    {
     "name": "stdout",
     "output_type": "stream",
     "text": [
      "Test  Iteration:  0 LOSS :  0.008466356 min: -0.0002903099 max: 0.057150226 med: 0.00637405 zero: (0,)\n"
     ]
    },
    {
     "data": {
      "image/png": "[encoded data removed]",
      "text/plain": [
       "<Figure size 432x288 with 1 Axes>"
      ]
     },
     "metadata": {},
     "output_type": "display_data"
    },
    {
     "data": {
      "image/png": "[encoded data removed]",
      "text/plain": [
       "<Figure size 432x288 with 1 Axes>"
      ]
     },
     "metadata": {},
     "output_type": "display_data"
    },
    {
     "name": "stdout",
     "output_type": "stream",
     "text": [
      "(462,) (462,)\n"
     ]
    },
    {
     "data": {
      "image/png": "[encoded data removed]",
      "text/plain": [
       "<Figure size 432x288 with 1 Axes>"
      ]
     },
     "metadata": {},
     "output_type": "display_data"
    },
    {
     "name": "stdout",
     "output_type": "stream",
     "text": [
      "0.974025974025974 0.4741227909609362\n",
      "Positive (450,) Anomaly (450,) Distribution\n",
      "ACCURACY:  0.974025974025974 THRESHOLD:  0.4741227909609362\n"
     ]
    }
   ],
   "source": [
    "criteria = nn.MSELoss(reduction='none' ).cuda()\n",
    "s_loss = SSIM().cuda()\n",
    "optimizer = optim.Adam(model.parameters(), lr=0.0051)\n",
    "phases = {\"test\":[test_loader_bad,test_loader_good],\"train\":train_loader}\n",
    "\n",
    "epoch = 0\n",
    "max_acc = 0\n",
    "\n",
    "while True:\n",
    "    epoch+=1\n",
    "    print (\"Epoch ___________________________________\",epoch)\n",
    "    if epoch ==10000:\n",
    "        break\n",
    "    for phase in phases:\n",
    "        loaders = phases[phase]\n",
    "        if phase == 'train': \n",
    "            continue\n",
    "            train(model,loaders,s_loss,optimizer,True,50)\n",
    "        else: \n",
    "            loss_lists = list()\n",
    "            for loader in loaders:\n",
    "                losses = train(model,loader,s_loss,optimizer,False,1000)\n",
    "                loss_lists.append(losses)\n",
    "            acc,thr = calculate_acc(loss_lists)\n",
    "            print (\"ACCURACY: \",acc, \"THRESHOLD: \",thr)\n",
    "#             if max_acc < acc or True:\n",
    "#                 torch.save(model.state_dict(),str(acc)+\".pt\")\n",
    "#                 max_acc = acc\n",
    "    break\n",
    " \n"
   ]
  },
  {
   "cell_type": "code",
   "execution_count": null,
   "metadata": {},
   "outputs": [],
   "source": []
  },
  {
   "cell_type": "code",
   "execution_count": null,
   "metadata": {},
   "outputs": [],
   "source": []
  }
 ],
 "metadata": {
  "kernelspec": {
   "display_name": "Python 3",
   "language": "python",
   "name": "python3"
  },
  "language_info": {
   "codemirror_mode": {
    "name": "ipython",
    "version": 3
   },
   "file_extension": ".py",
   "mimetype": "text/x-python",
   "name": "python",
   "nbconvert_exporter": "python",
   "pygments_lexer": "ipython3",
   "version": "3.6.6"
  }
 },
 "nbformat": 4,
 "nbformat_minor": 2
}
