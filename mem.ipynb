{
 "cells": [
  {
   "cell_type": "code",
   "execution_count": 1,
   "metadata": {
    "scrolled": true
   },
   "outputs": [],
   "source": [
    "from models.memae import MEMAE\n",
    "import torch\n",
    "import matplotlib.pyplot as plt\n",
    "import torch.nn as nn \n",
    "from torch.utils.data import Dataset, DataLoader\n",
    "from torchvision import transforms, utils\n",
    "import os\n",
    "import glob\n",
    "import numpy as np\n",
    "from PIL import Image\n",
    "import resource\n",
    "rlimit = resource.getrlimit(resource.RLIMIT_NOFILE)\n",
    "resource.setrlimit(resource.RLIMIT_NOFILE, (4096, rlimit[1]))"
   ]
  },
  {
   "cell_type": "code",
   "execution_count": 2,
   "metadata": {
    "scrolled": true
   },
   "outputs": [],
   "source": [
    "import torch\n",
    "import torch.nn.functional as F\n",
    "from torch.autograd import Variable\n",
    "import numpy as np\n",
    "from math import exp\n",
    "import random \n",
    "\n",
    "\n",
    "def gaussian(window_size, sigma):\n",
    "    gauss = torch.Tensor([exp(-(x - window_size//2)**2/float(2*sigma**2)) for x in range(window_size)])\n",
    "    return gauss/gauss.sum()\n",
    "\n",
    "def create_window(window_size, channel):\n",
    "    _1D_window = gaussian(window_size, 1.5).unsqueeze(1)\n",
    "    _2D_window = _1D_window.mm(_1D_window.t()).float().unsqueeze(0).unsqueeze(0)\n",
    "    window = Variable(_2D_window.expand(channel, 1, window_size, window_size).contiguous())\n",
    "    return window\n",
    "\n",
    "def _ssim(img1, img2, window, window_size, channel, size_average = False):\n",
    "    mu1 = F.conv2d(img1, window, padding = window_size//2, groups = channel)\n",
    "    mu2 = F.conv2d(img2, window, padding = window_size//2, groups = channel)\n",
    "\n",
    "    mu1_sq = mu1.pow(2)\n",
    "    mu2_sq = mu2.pow(2)\n",
    "    mu1_mu2 = mu1*mu2\n",
    "\n",
    "    sigma1_sq = F.conv2d(img1*img1, window, padding = window_size//2, groups = channel) - mu1_sq\n",
    "    sigma2_sq = F.conv2d(img2*img2, window, padding = window_size//2, groups = channel) - mu2_sq\n",
    "    sigma12 = F.conv2d(img1*img2, window, padding = window_size//2, groups = channel) - mu1_mu2\n",
    "\n",
    "    C1 = 0.01**2\n",
    "    C2 = 0.03**2\n",
    "\n",
    "    ssim_map = ((2*mu1_mu2 + C1)*(2*sigma12 + C2))/((mu1_sq + mu2_sq + C1)*(sigma1_sq + sigma2_sq + C2))\n",
    "\n",
    "    if size_average and False: \n",
    "        return ssim_map.mean()\n",
    "    else:\n",
    "        return ssim_map\n",
    "        return ssim_map.mean(1).mean(1).mean(1)\n",
    "\n",
    "class SSIM(torch.nn.Module):\n",
    "    def __init__(self, window_size = 11, size_average = True):\n",
    "        super(SSIM, self).__init__()\n",
    "        self.window_size = window_size\n",
    "        self.size_average = size_average\n",
    "        self.channel = 1\n",
    "        self.window = create_window(window_size, self.channel)\n",
    "         \n",
    "\n",
    "    def forward(self, img1, img2):\n",
    "        (_, channel, _, _) = img1.size()\n",
    "\n",
    "        if channel == self.channel and self.window.data.type() == img1.data.type():\n",
    "            window = self.window\n",
    "        else:\n",
    "            window = create_window(self.window_size, channel)\n",
    "            \n",
    "            if img1.is_cuda:\n",
    "                window = window.cuda(img1.get_device())\n",
    "            window = window.type_as(img1)\n",
    "            \n",
    "            self.window = window\n",
    "            self.channel = channel\n",
    "\n",
    "\n",
    "        return _ssim(img1, img2, window, self.window_size, channel, self.size_average)\n",
    "\n",
    "\n",
    "class HLoss(nn.Module):\n",
    "    def __init__(self):\n",
    "        super(HLoss, self).__init__()\n",
    "\n",
    "    def forward(self, x):\n",
    "        b = F.softmax(x, dim=1) * F.log_softmax(x, dim=1)\n",
    "#         print (x.shape,b.shape)\n",
    "        b = -1.0 * b\n",
    "        return b.sum()"
   ]
  },
  {
   "cell_type": "code",
   "execution_count": 3,
   "metadata": {
    "scrolled": true
   },
   "outputs": [],
   "source": [
    "s_loss = SSIM().cuda()"
   ]
  },
  {
   "cell_type": "code",
   "execution_count": 61,
   "metadata": {
    "scrolled": false
   },
   "outputs": [
    {
     "name": "stdout",
     "output_type": "stream",
     "text": [
      "8711 462 1462\n"
     ]
    }
   ],
   "source": [
    "class FaceLandmarksDataset(Dataset):\n",
    "    \"\"\"Face Landmarks dataset.\"\"\"\n",
    "\n",
    "    def __init__(self,root_dir,start,end,train=True):\n",
    "        \"\"\"\n",
    "        Args:\n",
    "            csv_file (string): Path to the csv file with annotations.\n",
    "            root_dir (string): Directory with all the images.\n",
    "            transform (callable, optional): Optional transform to be applied\n",
    "                on a sample.\n",
    "        \"\"\"\n",
    "        self.transform=transforms.Compose([    transforms.Resize((98,98)),\n",
    "#                                                transforms.RandomHorizontalFlip(p=0.5),\n",
    "                                               transforms.Grayscale(num_output_channels=1),\n",
    "                                               transforms.ToTensor()\n",
    "                                           ])\n",
    "        self.t_transform=transforms.Compose([    transforms.Resize((98,98)), \n",
    "                                               transforms.Grayscale(num_output_channels=1),\n",
    "                                               transforms.ToTensor()\n",
    "                                           ])\n",
    "        self.train = train\n",
    "        self.dataset = glob.glob(root_dir)[start:end] \n",
    "       \n",
    "\n",
    "    def __len__(self):\n",
    "        return len(self.dataset)\n",
    "\n",
    "    def __getitem__(self, idx):\n",
    "         \n",
    "\n",
    "        img_name = self.dataset[idx]\n",
    "        im = np.array(Image.open(img_name)) \n",
    "#         im = np.stack((im,)*3, axis=-1)\n",
    "        im = Image.fromarray(im)\n",
    "        if self.train:\n",
    "            im = self.transform(im)\n",
    "        else:\n",
    "            im = self.t_transform(im)\n",
    "        \n",
    "         \n",
    "        return im,im\n",
    "dataset=FaceLandmarksDataset('../defect/datasets/infineon/train_memae/train/*',0,19000)\n",
    "test_good = FaceLandmarksDataset('../defect/datasets/infineon/train_memae/train/*',0,1462,False)\n",
    "test_bad = FaceLandmarksDataset('../defect/datasets/infineon/test/baad/*',00,8962,False)\n",
    "print (dataset.__len__(),test_bad.__len__(),test_good.__len__())\n",
    "dl = torch.utils.data.DataLoader(dataset,batch_size=64, shuffle=True,\n",
    "                                             num_workers=4)\n",
    "dl_test_bad = torch.utils.data.DataLoader(test_bad,batch_size=1, shuffle=False,\n",
    "                                             num_workers=4)\n",
    "dl_test_good = torch.utils.data.DataLoader(test_good,batch_size=1, shuffle=False,\n",
    "                                             num_workers=4)\n"
   ]
  },
  {
   "cell_type": "code",
   "execution_count": null,
   "metadata": {},
   "outputs": [],
   "source": []
  },
  {
   "cell_type": "code",
   "execution_count": 62,
   "metadata": {
    "scrolled": true
   },
   "outputs": [
    {
     "data": {
      "text/plain": [
       "MEMAE(\n",
       "  (encoder): Encoder(\n",
       "    (conv1): Conv2d(1, 16, kernel_size=(1, 1), stride=(2, 2), padding=(1, 1))\n",
       "    (bn1): BatchNorm2d(16, eps=1e-05, momentum=0.1, affine=True, track_running_stats=True)\n",
       "    (conv2): Conv2d(16, 32, kernel_size=(3, 3), stride=(2, 2), padding=(1, 1))\n",
       "    (bn2): BatchNorm2d(32, eps=1e-05, momentum=0.1, affine=True, track_running_stats=True)\n",
       "    (conv3): Conv2d(32, 64, kernel_size=(3, 3), stride=(2, 2), padding=(1, 1))\n",
       "    (bn3): BatchNorm2d(64, eps=1e-05, momentum=0.1, affine=True, track_running_stats=True)\n",
       "    (conv4): Conv2d(64, 64, kernel_size=(3, 3), stride=(2, 2))\n",
       "    (bn4): BatchNorm2d(64, eps=1e-05, momentum=0.1, affine=True, track_running_stats=True)\n",
       "    (relu): ReLU(inplace=True)\n",
       "  )\n",
       "  (cosine_similarity): CosineSimilarity()\n",
       "  (decoder): Decoder(\n",
       "    (deconv0): ConvTranspose2d(64, 64, kernel_size=(3, 3), stride=(2, 2))\n",
       "    (bn0): BatchNorm2d(64, eps=1e-05, momentum=0.1, affine=True, track_running_stats=True)\n",
       "    (deconv1): ConvTranspose2d(64, 32, kernel_size=(3, 3), stride=(2, 2), padding=(1, 1))\n",
       "    (bn1): BatchNorm2d(32, eps=1e-05, momentum=0.1, affine=True, track_running_stats=True)\n",
       "    (deconv2): ConvTranspose2d(32, 16, kernel_size=(2, 2), stride=(2, 2), padding=(1, 1), output_padding=(1, 1))\n",
       "    (bn2): BatchNorm2d(16, eps=1e-05, momentum=0.1, affine=True, track_running_stats=True)\n",
       "    (deconv3): ConvTranspose2d(16, 1, kernel_size=(2, 2), stride=(2, 2))\n",
       "    (relu): ReLU(inplace=True)\n",
       "    (sigmoid): Sigmoid()\n",
       "  )\n",
       "  (relu): ReLU(inplace=True)\n",
       ")"
      ]
     },
     "execution_count": 62,
     "metadata": {},
     "output_type": "execute_result"
    }
   ],
   "source": [
    "# pretrained = MEMAE(300).cuda()\n",
    " \n",
    "# pretrained.load_state_dict(torch.load(\"./weight1.pt\"))\n",
    "model = MEMAE(1000).cuda()\n",
    "model.load_state_dict(torch.load(\"./memae_ckpt/ssim_95_23.pt\"))\n",
    "# model.encoder.load_state_dict(pretrained.encoder.state_dict())\n",
    "# model.decoder.load_state_dict(pretrained.decoder.state_dict()) \n",
    "model.train()\n",
    "\n",
    "refiner = MEMAE(1000).cuda() \n",
    "refiner.train()\n",
    "\n",
    "# for params in model.parameters():\n",
    "#     params.requires_grad = False\n",
    " \n",
    "# for params in zip(model.parameters(),refiner.parameters()):\n",
    "#     print(params[0].requires_grad,params[1].requires_grad)"
   ]
  },
  {
   "cell_type": "code",
   "execution_count": 63,
   "metadata": {
    "scrolled": true
   },
   "outputs": [],
   "source": [
    "import cv2\n",
    "def train(model,refiner,dataloader,criteria,optimizer,train=True,step=100):\n",
    "    losses = list()\n",
    "    if not train:\n",
    "        model.eval()\n",
    "    else:\n",
    "        model.train()\n",
    "    for i,(im,lab) in enumerate(dataloader):\n",
    "        optimizer.zero_grad() \n",
    "        outputs = model(im.cuda())\n",
    "        loss =  1-criteria(outputs, lab.cuda()) \n",
    "        \n",
    "        refiner_output = 1 - criteria(outputs,model(outputs))  \n",
    "          \n",
    "        \n",
    "        loss1 = cv2.GaussianBlur(loss.clone().cpu().detach().numpy()[0].reshape(98,98),(9,9),0)-  refiner_output.cpu().detach().numpy()[0].reshape(98,98)\n",
    " \n",
    "        loss2 = np.sort(loss1.reshape(-1))\n",
    "        loss2  = loss2\n",
    "        losses.append((np.median(loss2)*np.median(loss2[-45:]),loss.cpu().detach().numpy().reshape(-1))) \n",
    "        \n",
    "        phase = \"Train\" if train else \"Test\" \n",
    "        if i % step == 0 and   train:\n",
    "            print (phase,\" Iteration: \",i,\"LOSS : \",np.mean(loss1),\"min:\",np.min(loss1),\"max:\",np.max(loss1)\\\n",
    "               ,\"med:\",np.median(loss1),\"zero:\",loss1[loss1==0].shape) \n",
    "            inn = im.cpu().detach().numpy()[0]\n",
    "            inn = np.transpose(inn,(1,2,0)) \n",
    "            outputs = outputs.cpu().detach().numpy()[0]  \n",
    "            outputs[outputs>1]=1\n",
    "            outputs = np.transpose(outputs,(1,2,0))[:,:,0] \n",
    "            \n",
    "            \n",
    "            plt.imshow(inn.reshape(98,98),cmap=\"gray\")#.cpu().detach().numpy().reshape(98,98),cmap=\"gray\")\n",
    "            plt.show()\n",
    "            plt.imshow(outputs,cmap=\"gray\")\n",
    "            plt.show()\n",
    "            plt.imshow(loss1,cmap=\"gray\")\n",
    "            plt.show()\n",
    "        if train:\n",
    "            loss.mean().backward()\n",
    "            optimizer.step()\n",
    "     \n",
    "    return losses\n",
    "\n",
    "def calculate_acc(loss_lists):\n",
    "    \n",
    "    neg_np =  (np.array(loss_lists[0]))\n",
    "    pos_np =  (np.array(loss_lists[1]))\n",
    "    pos_np *=1000\n",
    "    neg_np *=1000\n",
    "    start,end = np.median(pos_np),np.median(neg_np) \n",
    "    \n",
    "    thresholds = np.linspace(start, end, num=1000)\n",
    "    accuracy = 0\n",
    "    thres = 0\n",
    "    print (pos_np.shape,neg_np.shape)\n",
    "    \n",
    "    for threh in thresholds: \n",
    "        if accuracy < ((pos_np[pos_np<threh].shape[0])+(neg_np[neg_np>=threh].shape[0])) / (pos_np.shape[0]+neg_np.shape[0]):\n",
    "\n",
    "            accuracy = ((pos_np[pos_np<threh].shape[0])+(neg_np[neg_np>=threh].shape[0])) / (pos_np.shape[0]+neg_np.shape[0])\n",
    "            thres  = threh\n",
    "    print (accuracy,thres)\n",
    "    print (\"Positive\",pos_np[pos_np<thres].shape,\"Anomaly\",neg_np[neg_np>=thres].shape, \"Distribution\")\n",
    "    return accuracy,thres"
   ]
  },
  {
   "cell_type": "code",
   "execution_count": 64,
   "metadata": {
    "scrolled": true
   },
   "outputs": [
    {
     "name": "stdout",
     "output_type": "stream",
     "text": [
      "Epoch ___________________________________ 1\n"
     ]
    }
   ],
   "source": [
    "import torch.optim as optim\n",
    "import numpy\n",
    "import sys\n",
    "numpy.set_printoptions(threshold=sys.maxsize)\n",
    "criteria = nn.MSELoss(reduction='none' ).cuda()\n",
    "s_loss = SSIM().cuda()\n",
    "optimizer = optim.Adam(model.parameters(), lr=0.01)\n",
    "phases = {\"test\":[dl_test_bad,dl_test_good],\"train\":dl}\n",
    "epoch = 0\n",
    "max_acc = 0\n",
    "\n",
    "while True:\n",
    "    epoch+=1\n",
    "    print (\"Epoch ___________________________________\",epoch)\n",
    "    if epoch ==10000:\n",
    "        break\n",
    "    for phase in phases:\n",
    "        loaders = phases[phase]\n",
    "        if phase == 'train': \n",
    "            continue\n",
    "            train(model,refiner,loaders,s_loss,optimizer,True,50)\n",
    "        else:\n",
    "            loss_lists = list()\n",
    "            for loader in loaders:\n",
    "                losses = train(model,refiner,loader,s_loss,optimizer,False,1)\n",
    "                loss_lists.append(losses)\n",
    "#             acc,thr = calculate_acc(loss_lists)\n",
    "#             print (\"ACCURACY: \",acc, \"THRESHOLD: \",thr)\n",
    "#             if max_acc < acc or True:\n",
    "#                 torch.save(model.state_dict(),\"./memae_ckpt/\"+str(acc)+\"_\"+str(thr)+\".pt\")\n",
    "#                 max_acc = acc\n",
    "    break\n",
    "#     \n",
    "# /\n"
   ]
  },
  {
   "cell_type": "code",
   "execution_count": 65,
   "metadata": {},
   "outputs": [
    {
     "name": "stdout",
     "output_type": "stream",
     "text": [
      "2\n"
     ]
    }
   ],
   "source": [
    "print (len(loss_lists))"
   ]
  },
  {
   "cell_type": "code",
   "execution_count": 96,
   "metadata": {
    "scrolled": true
   },
   "outputs": [
    {
     "name": "stdout",
     "output_type": "stream",
     "text": [
      "(462, 9604)\n"
     ]
    }
   ],
   "source": [
    "x_train = [sample[1] for i,sample in enumerate(loss_lists[0])] #+ [sample[1] for i,sample in enumerate(loss_lists[1])]\n",
    "y_train = [1 for sample in loss_lists[0]] + [0 for sample in loss_lists[0]]\n",
    "x_train = np.array(x_train) \n",
    "print(x_train.shape)\n",
    "# y_train = np.array(y_train)\n",
    "# from sklearn.svm import SVC\n",
    "# from sklearn.svm import LinearSVC\n",
    "# clf = LinearSVC(random_state=0, tol=1e-5)\n",
    "# clf.fit(x_train, y_train)\n",
    "\n",
    "# print(clf.score(x_train,y_train))\n"
   ]
  },
  {
   "cell_type": "code",
   "execution_count": 97,
   "metadata": {},
   "outputs": [
    {
     "name": "stderr",
     "output_type": "stream",
     "text": [
      "/home/ubuntu/anaconda3/lib/python3.6/site-packages/sklearn/ensemble/iforest.py:415: DeprecationWarning: threshold_ attribute is deprecated in 0.20 and will be removed in 0.22.\n",
      "  \" be removed in 0.22.\", DeprecationWarning)\n"
     ]
    },
    {
     "data": {
      "text/plain": [
       "(251,)"
      ]
     },
     "execution_count": 97,
     "metadata": {},
     "output_type": "execute_result"
    }
   ],
   "source": [
    "# from sklearn.ensemble import IsolationForest\n",
    "# clf = IsolationForest(random_state=0,contamination=0.05)\n",
    "# clf.fit(x_train)\n",
    "result = clf.predict(x_train)\n",
    "result[result==-1].shape"
   ]
  },
  {
   "cell_type": "code",
   "execution_count": 29,
   "metadata": {},
   "outputs": [
    {
     "name": "stdout",
     "output_type": "stream",
     "text": [
      "35.952335 5.5638337 3.8766234 1.2525527 368\n"
     ]
    }
   ],
   "source": [
    "distances = []\n",
    "counter = 0\n",
    "for i in range(462):\n",
    "    distance = np.linalg.norm(kmeans.cluster_centers_ - x_train[i])\n",
    "    if distance > 2:\n",
    "        counter+=1\n",
    "    distances.append(distance)\n",
    "print(max(distances),np.mean(distances),np.median(distances),np.min(distances),counter)"
   ]
  },
  {
   "cell_type": "code",
   "execution_count": 30,
   "metadata": {
    "scrolled": true
   },
   "outputs": [
    {
     "ename": "NameError",
     "evalue": "name 'y_true' is not defined",
     "output_type": "error",
     "traceback": [
      "\u001b[0;31m---------------------------------------------------------------------------\u001b[0m",
      "\u001b[0;31mNameError\u001b[0m                                 Traceback (most recent call last)",
      "\u001b[0;32m<ipython-input-30-3579bcff4eef>\u001b[0m in \u001b[0;36m<module>\u001b[0;34m()\u001b[0m\n\u001b[0;32m----> 1\u001b[0;31m \u001b[0mprint\u001b[0m \u001b[0;34m(\u001b[0m\u001b[0my_true\u001b[0m\u001b[0;34m.\u001b[0m\u001b[0mshape\u001b[0m\u001b[0;34m,\u001b[0m\u001b[0mlen\u001b[0m\u001b[0;34m(\u001b[0m\u001b[0mpos\u001b[0m\u001b[0;34m)\u001b[0m\u001b[0;34m,\u001b[0m\u001b[0mlen\u001b[0m\u001b[0;34m(\u001b[0m\u001b[0mneg\u001b[0m\u001b[0;34m)\u001b[0m\u001b[0;34m)\u001b[0m\u001b[0;34m\u001b[0m\u001b[0m\n\u001b[0m\u001b[1;32m      2\u001b[0m \u001b[0mprint\u001b[0m\u001b[0;34m(\u001b[0m\u001b[0mpred\u001b[0m\u001b[0;34m.\u001b[0m\u001b[0mshape\u001b[0m\u001b[0;34m)\u001b[0m\u001b[0;34m\u001b[0m\u001b[0m\n\u001b[1;32m      3\u001b[0m \u001b[0mprint\u001b[0m \u001b[0;34m(\u001b[0m\u001b[0mpred\u001b[0m\u001b[0;34m[\u001b[0m\u001b[0;34m:\u001b[0m\u001b[0;36m10\u001b[0m\u001b[0;34m]\u001b[0m\u001b[0;34m)\u001b[0m\u001b[0;34m\u001b[0m\u001b[0m\n\u001b[1;32m      4\u001b[0m \u001b[0mprint\u001b[0m \u001b[0;34m(\u001b[0m\u001b[0mpred\u001b[0m\u001b[0;34m[\u001b[0m\u001b[0;34m-\u001b[0m\u001b[0;36m10\u001b[0m\u001b[0;34m:\u001b[0m\u001b[0;34m]\u001b[0m\u001b[0;34m)\u001b[0m\u001b[0;34m\u001b[0m\u001b[0m\n",
      "\u001b[0;31mNameError\u001b[0m: name 'y_true' is not defined"
     ]
    }
   ],
   "source": [
    "print (y_true.shape,len(pos),len(neg))\n",
    "print(pred.shape)\n",
    "print (pred[:10])\n",
    "print (pred[-10:])"
   ]
  },
  {
   "cell_type": "code",
   "execution_count": null,
   "metadata": {
    "scrolled": true
   },
   "outputs": [],
   "source": [
    "print(roc_auc_score( y_true,pred))\n",
    "average_precision_score(y_true,pred)"
   ]
  },
  {
   "cell_type": "code",
   "execution_count": null,
   "metadata": {
    "scrolled": true
   },
   "outputs": [],
   "source": [
    "mem = 100, vector = 64 samples = 3000\n",
    "    2 and 0 = 97.9.42%\n",
    "    2 and 1 = 56.8%\n",
    "    2 and 2 = 99.2%\n",
    "    2 and 3 = 96.9%\n",
    "    2 and 4 = 98.3%\n",
    "    2 and 5 = 98.9.6%\n",
    "    2 and 6 = 98.42%\n",
    "    2 and 7 = 90.14%\n",
    "    2 and 8 = 98.42%\n",
    "    2 and 9 = 97.07%\n",
    "\n",
    "\n",
    "     \n",
    "    20 and 1 = 95.28%\n",
    "    2 and 2 = 99.0%\n",
    "    2 and 3 = 93.0%\n",
    "    2 and 4 = 98.3%\n",
    "    2 and 5 = 97.2.6%\n",
    "    2 and 6 = 98.42%\n",
    "    2 and 7 = 97.14%\n",
    "    2 and 8 = 98.82%\n",
    "    2 and 9 = 97.07%\n",
    "    \n",
    "    21 and 0 = 1%\n",
    "    2 and 2 = 1%\n",
    "    2 and 3 = 1%\n",
    "    2 and 4 = 1%\n",
    "    2 and 5 = 1%\n",
    "    2 and 6 = 1%\n",
    "    2 and 7 = 1%\n",
    "    2 and 8 = 1%\n",
    "    2 and 9 = 1%\n",
    "    \n",
    "     23 and 0 = 0.99%\n",
    "    2 and 1 = 0.51%\n",
    "    2 and 2 = 93%\n",
    "    2 and 4 = 98%\n",
    "    2 and 5 = 97%\n",
    "    2 and 6 = 91%\n",
    "    2 and 7 = 88%\n",
    "    2 and 8 = 95%\n",
    "    2 and 9 = 93%"
   ]
  },
  {
   "cell_type": "code",
   "execution_count": null,
   "metadata": {
    "scrolled": true
   },
   "outputs": [],
   "source": [
    "1 make supervised\n",
    "2) accu wholes\n",
    "3 train on complete images"
   ]
  },
  {
   "cell_type": "code",
   "execution_count": 39,
   "metadata": {
    "scrolled": true
   },
   "outputs": [
    {
     "name": "stdout",
     "output_type": "stream",
     "text": [
      "[t-SNE] Computing 61 nearest neighbors...\n",
      "[t-SNE] Indexed 924 samples in 0.173s...\n",
      "[t-SNE] Computed neighbors for 924 samples in 13.176s...\n",
      "[t-SNE] Computed conditional probabilities for sample 924 / 924\n",
      "[t-SNE] Mean sigma: 0.262202\n",
      "[t-SNE] KL divergence after 250 iterations with early exaggeration: 86.796181\n",
      "[t-SNE] KL divergence after 1000 iterations: 1.191243\n",
      "(924, 2)\n"
     ]
    }
   ],
   "source": [
    "from sklearn.manifold import TSNE\n",
    "RS = 7657\n",
    "tsne = TSNE(n_components=2, verbose=1 , perplexity =20,random_state = RS) \n",
    "fashion_tsne = tsne.fit_transform(x_train)\n",
    "print (fashion_tsne.shape)"
   ]
  },
  {
   "cell_type": "code",
   "execution_count": 40,
   "metadata": {},
   "outputs": [],
   "source": [
    "import seaborn as sns\n",
    "import matplotlib.pyplot as plt\n",
    "import matplotlib.patheffects as PathEffects\n",
    "def fashion_scatter(x, colors):\n",
    "    # choose a color palette with seaborn.\n",
    "    num_classes = len(np.unique(colors))\n",
    "    palette = np.array(sns.color_palette(\"hls\", num_classes))\n",
    "\n",
    "    # create a scatter plot.\n",
    "    f = plt.figure(figsize=(8, 8))\n",
    "    ax = plt.subplot(aspect='equal')\n",
    "    plt.title(\"Green=Good,   Red=Bad(Inline),   Purple=Train Good embedings \\n\\n Trained only on Synthetic Burr and Height\"  )\n",
    "    sc = ax.scatter(x[:,0], x[:,1], lw=0, s=40, c=palette[colors.astype(np.int)])\n",
    "    plt.xlim(-25, 25)\n",
    "    plt.ylim(-25, 25)\n",
    "    ax.axis('off')\n",
    "    ax.axis('tight')\n",
    "\n",
    "    # add the labels for each digit corresponding to the label\n",
    "    txts = []\n",
    "\n",
    "    for i in range(num_classes):\n",
    "\n",
    "        # Position of each label at median of data points.\n",
    "\n",
    "        xtext, ytext = np.median(x[colors == i, :], axis=0)\n",
    "        txt = ax.text(xtext, ytext, str(i), fontsize=24)\n",
    "        txt.set_path_effects([\n",
    "            PathEffects.Stroke(linewidth=5, foreground=\"w\"),\n",
    "            PathEffects.Normal()])\n",
    "        txts.append(txt)\n",
    "\n",
    "    return f, ax, sc, txts"
   ]
  },
  {
   "cell_type": "code",
   "execution_count": 41,
   "metadata": {},
   "outputs": [
    {
     "name": "stdout",
     "output_type": "stream",
     "text": [
      "(924, 9604) (924,)\n"
     ]
    },
    {
     "data": {
      "text/plain": [
       "(<Figure size 576x576 with 1 Axes>,\n",
       " <matplotlib.axes._subplots.AxesSubplot at 0x7f8e35a88198>,\n",
       " <matplotlib.collections.PathCollection at 0x7f8e2ffe8588>,\n",
       " [Text(-1.2836,2.20124,'0'), Text(1.00906,0.0443198,'1')])"
      ]
     },
     "execution_count": 41,
     "metadata": {},
     "output_type": "execute_result"
    },
    {
     "data": {
      "image/png": "[encoded data removed]",
      "text/plain": [
       "<Figure size 576x576 with 1 Axes>"
      ]
     },
     "metadata": {},
     "output_type": "display_data"
    }
   ],
   "source": [
    "print (x_train.shape,y_train.shape)\n",
    "fashion_scatter(fashion_tsne,y_train)"
   ]
  },
  {
   "cell_type": "code",
   "execution_count": 42,
   "metadata": {},
   "outputs": [
    {
     "ename": "SyntaxError",
     "evalue": "invalid syntax (<ipython-input-42-8769fbd3a380>, line 7)",
     "output_type": "error",
     "traceback": [
      "\u001b[0;36m  File \u001b[0;32m\"<ipython-input-42-8769fbd3a380>\"\u001b[0;36m, line \u001b[0;32m7\u001b[0m\n\u001b[0;31m    print (mean, std, sigma) //28.61 1.54431214461 2.3849\u001b[0m\n\u001b[0m                                                 ^\u001b[0m\n\u001b[0;31mSyntaxError\u001b[0m\u001b[0;31m:\u001b[0m invalid syntax\n"
     ]
    }
   ],
   "source": [
    "import numpy as np\n",
    "avg_temp = np.array([24.0, 28.9, 28.9, 29.0, 29.1, 29.1, 29.2, 29.2, 29.3, 29.4])\n",
    "\n",
    "mean = avg_temp.mean()\n",
    "std = avg_temp.std()\n",
    "sigma = std^2\n",
    "print (mean, std, sigma) //28.61 1.54431214461 2.3849"
   ]
  },
  {
   "cell_type": "code",
   "execution_count": null,
   "metadata": {},
   "outputs": [],
   "source": []
  }
 ],
 "metadata": {
  "kernelspec": {
   "display_name": "Python 3",
   "language": "python",
   "name": "python3"
  },
  "language_info": {
   "codemirror_mode": {
    "name": "ipython",
    "version": 3
   },
   "file_extension": ".py",
   "mimetype": "text/x-python",
   "name": "python",
   "nbconvert_exporter": "python",
   "pygments_lexer": "ipython3",
   "version": "3.6.6"
  }
 },
 "nbformat": 4,
 "nbformat_minor": 2
}
